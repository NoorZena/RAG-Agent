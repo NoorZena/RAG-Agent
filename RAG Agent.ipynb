{
 "cells": [
  {
   "cell_type": "code",
   "execution_count": 69,
   "id": "1594aaea-8251-45c3-9a9d-90585e3e7164",
   "metadata": {},
   "outputs": [],
   "source": [
    "# # Install required libraries (only run once)\n",
    "# !pip install streamlit faiss-cpu mistralai beautifulsoup4 requests numpy"
   ]
  },
  {
   "cell_type": "code",
   "execution_count": 71,
   "id": "9ada3593-d28b-4b1a-accd-e927f1c3b26b",
   "metadata": {},
   "outputs": [],
   "source": [
    "# Import necessary libraries\n",
    "import os\n",
    "import time\n",
    "import faiss\n",
    "import numpy as np\n",
    "import requests\n",
    "from bs4 import BeautifulSoup\n",
    "from mistralai import Mistral, UserMessage"
   ]
  },
  {
   "cell_type": "code",
   "execution_count": 73,
   "id": "22dcd885-3220-46b8-abe0-fb359faa43c4",
   "metadata": {},
   "outputs": [],
   "source": [
    "# -------------------------- Step 1: Set API Key --------------------------\n",
    "\n",
    "# Set the Mistral API Key (Replace with your actual key)\n",
    "os.environ[\"MISTRAL_API_KEY\"] = \"pSnb6dOIGJqlPqhVuNo9nxC02ilfYPls\"\n",
    "api_key = os.getenv(\"MISTRAL_API_KEY\")\n",
    "\n",
    "# Verify if the API Key is set correctly\n",
    "if not api_key:\n",
    "    raise ValueError(\"API Key is missing! Set your MISTRAL_API_KEY.\")"
   ]
  },
  {
   "cell_type": "code",
   "execution_count": 81,
   "id": "38bbaa67-00bf-4f14-a69e-a894d6d4946e",
   "metadata": {
    "scrolled": true
   },
   "outputs": [
    {
     "name": "stdout",
     "output_type": "stream",
     "text": [
      "Fetched Policies: [\"Search Search by Keyword Search Search by Purpose I am Select an OptionUDST EmployeeCareer at UDSTParentCurrent StudentAlumniFuture Student Looking for Select an Option Take me There Quick links Current Student Registration Academic Calendar Student Systems Attendance Final Exams Academic Awards Request Letters and Records Graduation Ceremony Graduation Requirements Ramadan Schedule Professional Education Customized Training Courses Consulting Services Register Today Online Resources Alumni Presidents Message Alumni Services Update Contact Information Request Letters, Records and Transcripts Alumni Benefits UDST Offers Alumni Events Alumni Magazine Alumni Office Graduation Ceremonies Testing Centre Placement Tests IELTS Tests Proctoring Careers Sport and Wellness Our Facilities Sport and Varsity Wellness Programs Junior Wolves Club Book a Facility or Wellness Program Today Search Admissions Why UDST Admissions All Programs How to Apply Application Deadlines Admissions Information Admissions FAQ's Tuition and Fees Refunds Scholarships & Financial Aid Sponsorships Scholarships Emiri Scholarship Education Above All Jassim and Hamad bin Jassim Foundation Office of Admissions & Registration International Students New Student Information Academic Our Colleges College of Engineering and Technology Central Analysis Lab Our Programs Graduation and Enrollment Data Central Analysis Lab Our Programs Graduation and Enrollment Data College of Computing and Information Technology Our Programs Our Programs College of Health Sciences Our Programs Our Programs College of Business Our Programs College of General Education Our Programs Additional Learning and Resources Foundation Program Unit Continuing and Professional Education Testing Center Library Manara Life at UDST Student Engagement Student Counselling and Accessibility Services Student Central Services Facilities Sport and Wellness Get to Know Our Campus Benefits and Discounts Research Artificial Intelligence in Health Care Simulation Education: Innovation and Integration Welcome Message Objectives and Purpose International Speakers Call for Abstracts Program Registration Venue Exhibition and Sponsorships Symposium Committees Contact Us Gallery Applied Research and Innovation Research Profiles Submit your Seed Proposal UNESCO – UNEVOC Center UNESCO – UNEVOC Home Research Conferences World Skills Day World Teachers Day International Women's Day TVET Roadshow Entrepreneurship: uHUB, Business Gateway Sustainability Initiatives Applied Research Centers International Symposium on Diabetes Care – World Diabetes Day 2023: Empowering Global Health Through Life – Changing Diabetes Research Home Venue Keynote Speakers Agenda Key deadlines Registration Contact Us Trends in the In-silico Approaches: Drug Discovery and Development Conference 22-24 October 2023 Home Venue Invited Speakers Program Themes Call for Abstracts Key deadlines Registration Book of Abstracts Posters Gallery Image Gallery Contact Us About UDST UDST At A Glance Board of Trustees Office of the President Office of the Vice President, Academics Partnerships and Engagement Staff Directory Institutional Excellence (IE) IT Directorate Program Development and Accreditation Applied and Experiential Learning Policies and Procedures Events Media News UDST Post Careers Jump to More Strategic Plan How to Apply Application Deadlines All Programs D2L Navigate 360 IELTS Registration Student Email PeopleSoft Self-Service Library Book Sport Facility Tuition and Fees UDST Post Staff Email WebVPN Academic Catalog Social media links Twitter Youtube Instagram Facebook Linkedin About UDST Institutional Excellence (IE) UDST Policies and Procedures \\u200bUniversity of Doha for Science and Technology Policies and Procedures Manual UDST Policies and Procedures support and promote the University's Mission, ensure proper governance, define standards, foster institutional excellence, improve operational capability, and ensure institutional growth in a manner that is in compliant with applicable Qatar Vision 2030, laws and regulations and international best practices. Institutional Excellence Directorate is the custodian for all University policies and procedures and responsible for updating and maintaining the policies webpage. If you have any questions concerning the policies or procedures, please contact the Institutional Excellence Directorate through Email: policy@udst.edu.qa Phone: 4495 2193 Academic Policies and Procedures POLICY TITLE POLICY NUMBER Academic Annual Leave Policy - V1 PL-AC-06 Academic Appraisal Policy -V1 PL-AC-09 Academic Appraisal Procedure-V1 PR-AC-09 Academic Credentials Policy - V1 PL-AC-02 Academic Freedom Policy- V1 PL-AC-10 Academic Members' Retention Policy- V1 PL-AC-12 Academic Professional Development Policy-V1 PL-AC-11 Academic Qualifications Policy -V2 PL-AC-03 Credit Hour Policy-V1 PL-AC-26 Intellectual Property Policy -V1 PL-AC-14 Joint Appointment Policy - V1 PL-AC-20 Program Accreditation Policy- V1 PL-AC-16 Examination Policy- V1 PL-AC-07 Student Affairs Policies and Procedures Policy Title Policy Number Student Conduct Policy-V2 Pl-ST-01 Student Conduct Procedure-V1 PR-ST-01 Academic Schedule Policy-V1 Pl-ST-02 Academic Scheduling Procedure PR-ST-02 Student Attendance Policy-V1 Pl-ST-03 Student Attendance Procedure-V2 PR-ST-03 Student Appeals Policy-V1 Pl-ST-04 Academic Standing Policy-V4 Pl-ST-05 Academic Standing Procedure-V1 PR-ST-05 Transfer Policy-V1 Pl-ST-06 Admissions Policy-V2 Pl-ST-07 Admissions Procedure-V1 PR-ST-07 Final Grade Policy-V2 Pl-ST-08 Final Grade Procedure-V2 PR-ST-08 Registration Policy-V2 Pl-ST-09 Registration Procedure-V1 PR-ST-09 Sport and Wellness Facilities and Services Usage Policy-V1 Pl-ST-10 Student Engagement Policy-V1 Pl-ST-12 Student Council Procedure-V1 PR-ST-12-02 International Student Policy-V1 Pl-ST-13 International Student Procedure-V1 PR-ST-13 Graduation Policy-V1 Pl-ST-14 Student Counselling Services Policy-V1 Pl-ST-16 Graduate Admissions Policy-V1 Pl-ST-17 Graduate Academic Standing Policy-V2 Pl-ST-18 Graduate Academic Standing Procedure-V1 PR-ST-18 Graduate Final Grade Policy-V1 Pl-ST-19 Graduate Final Grade Procedure-V1 PR-ST-19 Use of Library Space Policy-V1 Pl-ST-22 Digital Media Centre Booking Procedure-V1 PR-ST-22-01 Library Study Room Booking Procedure-V1 PR-ST-22-02 Right Refuse Service Procedure-V1 PR-ST-22-03 Scholarship and Financial Assistance Policy PL-ST-11 UDST Guidelines POLICY TITLE Student-Organized On-Campus Events and Gatherings Guidelines \\u200bPolicies and Procedures References and Acknowledgements List of references and resources that have been used in, and impacted, the development of the policies and procedures are available in the [References to the Published Policies and Procedures Manual] document. References and resources listed were added post Board approval of the policies except for Academic Appraisal Policy, Academic Freedom Policy, Academic Members' Retention Policy, Credit Hour Policy, Intellectual Property Policy, and Student Conduct Policy. General Considerations The policies, procedures, bylaws, regulations, and instructions (UDST Materials) published on the website are the property of the University of Doha for Science and Technology (University). You may not copy, reproduce, distribute, publish, display, modify, create derivative works, transmit, store, or in any way exploit any part or all of the UDST Materials, except with the prior written permission of UDST, or - if a member of UDST staff - as is, and to the extent required for the performance of your duties and obligations for the benefit of the University only. For the avoidance of doubt, nothing herein grants you ownership rights to any part of the UDST Materials viewed through the Site. Publication on the website does not guarantee that the versions published are up-to-date. The University's Board of Trustees, or President, as the case may be, may add, amend or repeal any policy, procedure or bylaw, and failure to timely post such changes to this website shall not be construed as a waiver of enforcement. Arabic version of policies and their related procedures will be added later. Social media links Twitter Youtube Instagram Facebook Linkedin UDST - Qatar Al Tarafa, Jelaiah Street Duhail North P.O. Box 24449 Doha, Qatar Main Menu: Admissions Academic Life at UDST Research About UDST Quick links: Current Student Professional Education Alumni Testing Centre Careers Sport and Wellness Contact Us Explore the Campus Directory Footer menu Privacy Policy Terms & Conditions University of Doha for Science and Technology @ 2025 Back to top\", \"Search Search by Keyword Search Search by Purpose I am Select an OptionUDST EmployeeCareer at UDSTParentCurrent StudentAlumniFuture Student Looking for Select an Option Take me There Quick links Current Student Registration Academic Calendar Student Systems Attendance Final Exams Academic Awards Request Letters and Records Graduation Ceremony Graduation Requirements Ramadan Schedule Professional Education Customized Training Courses Consulting Services Register Today Online Resources Alumni Presidents Message Alumni Services Update Contact Information Request Letters, Records and Transcripts Alumni Benefits UDST Offers Alumni Events Alumni Magazine Alumni Office Graduation Ceremonies Testing Centre Placement Tests IELTS Tests Proctoring Careers Sport and Wellness Our Facilities Sport and Varsity Wellness Programs Junior Wolves Club Book a Facility or Wellness Program Today Search Admissions Why UDST Admissions All Programs How to Apply Application Deadlines Admissions Information Admissions FAQ's Tuition and Fees Refunds Scholarships & Financial Aid Sponsorships Scholarships Emiri Scholarship Education Above All Jassim and Hamad bin Jassim Foundation Office of Admissions & Registration International Students New Student Information Academic Our Colleges College of Engineering and Technology Central Analysis Lab Our Programs Graduation and Enrollment Data Central Analysis Lab Our Programs Graduation and Enrollment Data College of Computing and Information Technology Our Programs Our Programs College of Health Sciences Our Programs Our Programs College of Business Our Programs College of General Education Our Programs Additional Learning and Resources Foundation Program Unit Continuing and Professional Education Testing Center Library Manara Life at UDST Student Engagement Student Counselling and Accessibility Services Student Central Services Facilities Sport and Wellness Get to Know Our Campus Benefits and Discounts Research Artificial Intelligence in Health Care Simulation Education: Innovation and Integration Welcome Message Objectives and Purpose International Speakers Call for Abstracts Program Registration Venue Exhibition and Sponsorships Symposium Committees Contact Us Gallery Applied Research and Innovation Research Profiles Submit your Seed Proposal UNESCO – UNEVOC Center UNESCO – UNEVOC Home Research Conferences World Skills Day World Teachers Day International Women's Day TVET Roadshow Entrepreneurship: uHUB, Business Gateway Sustainability Initiatives Applied Research Centers International Symposium on Diabetes Care – World Diabetes Day 2023: Empowering Global Health Through Life – Changing Diabetes Research Home Venue Keynote Speakers Agenda Key deadlines Registration Contact Us Trends in the In-silico Approaches: Drug Discovery and Development Conference 22-24 October 2023 Home Venue Invited Speakers Program Themes Call for Abstracts Key deadlines Registration Book of Abstracts Posters Gallery Image Gallery Contact Us About UDST UDST At A Glance Board of Trustees Office of the President Office of the Vice President, Academics Partnerships and Engagement Staff Directory Institutional Excellence (IE) IT Directorate Program Development and Accreditation Applied and Experiential Learning Policies and Procedures Events Media News UDST Post Careers Jump to More Strategic Plan How to Apply Application Deadlines All Programs D2L Navigate 360 IELTS Registration Student Email PeopleSoft Self-Service Library Book Sport Facility Tuition and Fees UDST Post Staff Email WebVPN Academic Catalog Social media links Twitter Youtube Instagram Facebook Linkedin\", 'Search Search by Keyword Search Search by Purpose I am Select an OptionUDST EmployeeCareer at UDSTParentCurrent StudentAlumniFuture Student Looking for Select an Option Take me There']\n"
     ]
    }
   ],
   "source": [
    "def get_policies():\n",
    "    \"\"\"\n",
    "    Fetches UDST policies from the official website.\n",
    "    Cleans unnecessary new lines and spaces.\n",
    "    Returns a list of 10 policies.\n",
    "    \"\"\"\n",
    "    url = \"https://www.udst.edu.qa/about-udst/institutional-excellence-ie/policies-and-procedures\"\n",
    "    response = requests.get(url)\n",
    "    \n",
    "    if response.status_code != 200:\n",
    "        raise ValueError(\"Failed to fetch UDST policies. Check the URL or website status.\")\n",
    "\n",
    "    soup = BeautifulSoup(response.text, \"html.parser\")\n",
    "    raw_policies = [tag.text.strip() for tag in soup.find_all(\"div\") if tag.text.strip()]\n",
    "\n",
    "    # Clean policies: Remove excessive newlines and spaces\n",
    "    cleaned_policies = [\" \".join(policy.split()) for policy in raw_policies]\n",
    "\n",
    "    return cleaned_policies[:10]  # Limit to 10 policies\n",
    "\n",
    "# Fetch and check policies\n",
    "policies = get_policies()\n",
    "print(\"Fetched Policies:\", policies[:3])  # Display the first 3 policies for verification"
   ]
  },
  {
   "cell_type": "code",
   "execution_count": 83,
   "id": "b1b63096-8f3a-4a22-8687-8305ff3fa033",
   "metadata": {},
   "outputs": [
    {
     "name": "stdout",
     "output_type": "stream",
     "text": [
      "Total Chunks Created: 57\n"
     ]
    }
   ],
   "source": [
    "# -------------------------- Step 3: Chunk the Policy Text --------------------------\n",
    "\n",
    "def chunk_text(text, chunk_size=256):\n",
    "    \"\"\"\n",
    "    Splits text into smaller chunks to avoid exceeding token limits.\n",
    "    Returns a list of text chunks.\n",
    "    \"\"\"\n",
    "    return [text[i:i+chunk_size] for i in range(0, len(text), chunk_size)]\n",
    "\n",
    "# Process all policies into chunks\n",
    "chunks = [chunk for policy in policies for chunk in chunk_text(policy)]\n",
    "print(f\"Total Chunks Created: {len(chunks)}\")"
   ]
  },
  {
   "cell_type": "code",
   "execution_count": 85,
   "id": "1834f084-6afe-4a37-a3fc-d849938605ea",
   "metadata": {},
   "outputs": [
    {
     "name": "stdout",
     "output_type": "stream",
     "text": [
      "Generated 57 embeddings.\n"
     ]
    }
   ],
   "source": [
    "# -------------------------- Step 4: Generate Embeddings with Rate Limit Handling --------------------------\n",
    "\n",
    "def get_embeddings(chunks, batch_size=1, delay=3, max_retries=5):\n",
    "    \"\"\"\n",
    "    Generates embeddings for text chunks using Mistral AI.\n",
    "    Uses batch processing with retry logic to avoid hitting API rate limits.\n",
    "    \"\"\"\n",
    "    client = Mistral(api_key=api_key)\n",
    "    embeddings = []\n",
    "\n",
    "    for i in range(0, len(chunks), batch_size):\n",
    "        batch = chunks[i:i+batch_size]\n",
    "        retries = 0\n",
    "\n",
    "        while retries < max_retries:\n",
    "            try:\n",
    "                response = client.embeddings.create(model=\"mistral-embed\", inputs=batch)\n",
    "                embeddings.extend([e.embedding for e in response.data])\n",
    "                time.sleep(delay)  # Add delay to prevent hitting rate limits\n",
    "                break  # Exit retry loop if successful\n",
    "            except Exception as e:\n",
    "                print(f\"API Error: {e}. Retrying in {delay * 2} seconds...\")\n",
    "                time.sleep(delay * 2)\n",
    "                retries += 1\n",
    "        \n",
    "        if retries == max_retries:\n",
    "            print(\"Max retries reached. Skipping batch.\")\n",
    "\n",
    "    return embeddings\n",
    "\n",
    "# Generate embeddings with optimized API requests\n",
    "text_embeddings = get_embeddings(chunks)\n",
    "print(f\"Generated {len(text_embeddings)} embeddings.\")"
   ]
  },
  {
   "cell_type": "code",
   "execution_count": 87,
   "id": "bf8673c5-2f71-43b1-8061-c875dfe6cd37",
   "metadata": {},
   "outputs": [],
   "source": [
    "# -------------------------- Step 5: Store Embeddings in FAISS Vector Database --------------------------\n",
    "\n",
    "# Define FAISS index\n",
    "d = len(text_embeddings[0])  # Embedding dimension\n",
    "index = faiss.IndexFlatL2(d)\n",
    "index.add(np.array(text_embeddings))"
   ]
  },
  {
   "cell_type": "code",
   "execution_count": 89,
   "id": "96014ae6-f717-40a4-8665-fc0a410020e8",
   "metadata": {},
   "outputs": [
    {
     "name": "stdout",
     "output_type": "stream",
     "text": [
      "\n",
      "Chatbot Response: Based on the provided context, there is no explicitly listed policy titled \"Student Activities Policy.\" However, student activities can often be governed by several policies that shape the conduct, attendance, and overall academic life of students. Here are some relevant policies from your context that might indirectly relate to student activities:\n",
      "\n",
      "1. **Student Conduct Policy (Policy-V2 Pl-ST-01 Student Conduct Procedure-V1)**:\n",
      "   - This policy likely outlines the expected behavior of students, including in extracurricular activities.\n",
      "\n",
      "2. **Student Attendance Policy (PR-ST-02 Student Attendance Policy-V1 Pl-ST-03 Student Attendance Procedure-V2)**:\n",
      "   - This policy would cover attendance requirements, which could impact participation in student activities.\n",
      "\n",
      "3. **Student Appeals Policy (PR-ST-03 Student Appeals Policy-V1)**:\n",
      "   - This policy provides a framework for students to appeal decisions, which could be relevant if there are disputes related to student activities.\n",
      "\n",
      "4. **Academic Schedule Policy (PR-ST-01 Academic Schedule Policy-V1 Pl-ST-02 Academic Scheduling Procedure)**:\n",
      "   - This policy might affect the timing of student activities in relation to the academic calendar.\n",
      "\n",
      "For a comprehensive understanding of student activities, you might need to look into specific documents or guidelines that directly address extracurricular activities, club policies, event planning, and other related areas. If such a policy exists, it would likely be under a title like \"Student Activities Policy\" or \"Extracurricular Activities Policy.\" If not explicitly mentioned, you may need to refer to other related documents or contact the relevant administrative office for more details.\n"
     ]
    }
   ],
   "source": [
    "# -------------------------- Step 6: Query Processing & Testing in Jupyter --------------------------\n",
    "\n",
    "def get_query_embedding(query):\n",
    "    \"\"\"\n",
    "    Generates an embedding for the user's query.\n",
    "    \"\"\"\n",
    "    client = Mistral(api_key=api_key)\n",
    "    response = client.embeddings.create(model=\"mistral-embed\", inputs=[query])\n",
    "    return np.array(response.data[0].embedding)\n",
    "\n",
    "# Test a sample query in Jupyter Notebook\n",
    "sample_query = \"What are the policies for student activities?\"\n",
    "query_embedding = get_query_embedding(sample_query).reshape(1, -1)\n",
    "\n",
    "# Retrieve similar chunks\n",
    "D, I = index.search(query_embedding, k=2)  # Retrieve top 2 most relevant chunks\n",
    "retrieved_chunks = [chunks[i] for i in I[0]]\n",
    "\n",
    "# Create the final prompt for the chatbot\n",
    "prompt = f\"\"\"\n",
    "Context:\n",
    "{' '.join(retrieved_chunks)}\n",
    "Query: {sample_query}\n",
    "Answer:\n",
    "\"\"\"\n",
    "\n",
    "def ask_mistral(prompt):\n",
    "    \"\"\"\n",
    "    Uses Mistral AI to generate a response based on retrieved context.\n",
    "    \"\"\"\n",
    "    client = Mistral(api_key=api_key)\n",
    "    response = client.chat.complete(model=\"mistral-large-latest\", messages=[UserMessage(content=prompt)])\n",
    "    return response.choices[0].message.content\n",
    "\n",
    "# Get chatbot response in Jupyter\n",
    "answer = ask_mistral(prompt)\n",
    "print(\"\\nChatbot Response:\", answer)"
   ]
  }
 ],
 "metadata": {
  "kernelspec": {
   "display_name": "Python 3 (ipykernel)",
   "language": "python",
   "name": "python3"
  },
  "language_info": {
   "codemirror_mode": {
    "name": "ipython",
    "version": 3
   },
   "file_extension": ".py",
   "mimetype": "text/x-python",
   "name": "python",
   "nbconvert_exporter": "python",
   "pygments_lexer": "ipython3",
   "version": "3.12.7"
  }
 },
 "nbformat": 4,
 "nbformat_minor": 5
}
